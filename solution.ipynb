{
 "cells": [
  {
   "cell_type": "code",
   "execution_count": 4,
   "id": "008e32e0",
   "metadata": {},
   "outputs": [],
   "source": [
    "import problem\n",
    "import pandas as pd\n",
    "from multiprocessing import Pool"
   ]
  },
  {
   "cell_type": "code",
   "execution_count": 5,
   "id": "e1fe260a",
   "metadata": {},
   "outputs": [],
   "source": [
    "with Pool(processes=4) as pool:\n",
    "    res_l=pool.map(problem.f,problem.c_list)"
   ]
  },
  {
   "cell_type": "code",
   "execution_count": 6,
   "id": "1b53f15b",
   "metadata": {},
   "outputs": [],
   "source": [
    "res={}\n",
    "for tup in res_l:\n",
    "    res[tup[0]]=(tup[1],tup[2],tup[3],tup[4])"
   ]
  },
  {
   "cell_type": "code",
   "execution_count": 7,
   "id": "3f55e19f",
   "metadata": {},
   "outputs": [],
   "source": [
    "totsmc=pd.DataFrame(res).applymap(lambda x:f'${x[1]:.2f} Change: {(x[1]-x[0])*100/x[0]:.0f}% from yesterday' if abs((x[1]-x[0])/x[0])>problem.total_mean_change else 'Not Significant')\n",
    "totsc=pd.DataFrame(res).applymap(lambda x:f'${x[1]:.2f} Change: {(x[1]-x[0])*100/x[0]:.0f}% from yesterday' if abs((x[1]-x[0])/x[0])>problem.total_change else 'Not Significant')"
   ]
  },
  {
   "cell_type": "code",
   "execution_count": 8,
   "id": "c055ca28",
   "metadata": {},
   "outputs": [],
   "source": [
    "totsmc.index=['Total','Mean','Mean not VIP','Mean VIP']\n",
    "totsc.index=['Total','Mean','Mean not VIP','Mean VIP']"
   ]
  },
  {
   "cell_type": "code",
   "execution_count": 9,
   "id": "6e64087b",
   "metadata": {},
   "outputs": [],
   "source": [
    "tots=totsmc\n",
    "tots.loc[slice('Total'),:]=totsc.loc[slice('Total'),:]"
   ]
  },
  {
   "cell_type": "code",
   "execution_count": 10,
   "id": "7ac7c30e",
   "metadata": {},
   "outputs": [
    {
     "data": {
      "text/html": [
       "<div>\n",
       "<style scoped>\n",
       "    .dataframe tbody tr th:only-of-type {\n",
       "        vertical-align: middle;\n",
       "    }\n",
       "\n",
       "    .dataframe tbody tr th {\n",
       "        vertical-align: top;\n",
       "    }\n",
       "\n",
       "    .dataframe thead th {\n",
       "        text-align: right;\n",
       "    }\n",
       "</style>\n",
       "<table border=\"1\" class=\"dataframe\">\n",
       "  <thead>\n",
       "    <tr style=\"text-align: right;\">\n",
       "      <th></th>\n",
       "      <th>korea</th>\n",
       "      <th>russia</th>\n",
       "      <th>ukraine</th>\n",
       "      <th>canada</th>\n",
       "      <th>usa</th>\n",
       "      <th>australia</th>\n",
       "      <th>vietnam</th>\n",
       "      <th>philipines</th>\n",
       "      <th>mexico</th>\n",
       "      <th>brazil</th>\n",
       "    </tr>\n",
       "  </thead>\n",
       "  <tbody>\n",
       "    <tr>\n",
       "      <th>Total</th>\n",
       "      <td>Not Significant</td>\n",
       "      <td>$4648602.29 Change: 267% from yesterday</td>\n",
       "      <td>$4062890.61 Change: 283% from yesterday</td>\n",
       "      <td>Not Significant</td>\n",
       "      <td>Not Significant</td>\n",
       "      <td>Not Significant</td>\n",
       "      <td>$4489215.32 Change: 249% from yesterday</td>\n",
       "      <td>$4099746.73 Change: 277% from yesterday</td>\n",
       "      <td>Not Significant</td>\n",
       "      <td>$4101230.20 Change: 268% from yesterday</td>\n",
       "    </tr>\n",
       "    <tr>\n",
       "      <th>Mean</th>\n",
       "      <td>Not Significant</td>\n",
       "      <td>$4548.53 Change: 267% from yesterday</td>\n",
       "      <td>$4373.40 Change: 283% from yesterday</td>\n",
       "      <td>Not Significant</td>\n",
       "      <td>Not Significant</td>\n",
       "      <td>Not Significant</td>\n",
       "      <td>$4511.77 Change: 249% from yesterday</td>\n",
       "      <td>$4174.89 Change: 277% from yesterday</td>\n",
       "      <td>Not Significant</td>\n",
       "      <td>$4582.38 Change: 268% from yesterday</td>\n",
       "    </tr>\n",
       "    <tr>\n",
       "      <th>Mean not VIP</th>\n",
       "      <td>Not Significant</td>\n",
       "      <td>$4612.02 Change: 259% from yesterday</td>\n",
       "      <td>$4489.24 Change: 281% from yesterday</td>\n",
       "      <td>Not Significant</td>\n",
       "      <td>$4460.41 Change: 254% from yesterday</td>\n",
       "      <td>Not Significant</td>\n",
       "      <td>$4506.83 Change: 266% from yesterday</td>\n",
       "      <td>$4340.36 Change: 271% from yesterday</td>\n",
       "      <td>Not Significant</td>\n",
       "      <td>$4615.48 Change: 258% from yesterday</td>\n",
       "    </tr>\n",
       "    <tr>\n",
       "      <th>Mean VIP</th>\n",
       "      <td>Not Significant</td>\n",
       "      <td>$4489.14 Change: 275% from yesterday</td>\n",
       "      <td>$4256.31 Change: 285% from yesterday</td>\n",
       "      <td>Not Significant</td>\n",
       "      <td>Not Significant</td>\n",
       "      <td>Not Significant</td>\n",
       "      <td>Not Significant</td>\n",
       "      <td>$4014.08 Change: 284% from yesterday</td>\n",
       "      <td>$4542.71 Change: 249% from yesterday</td>\n",
       "      <td>$4550.66 Change: 279% from yesterday</td>\n",
       "    </tr>\n",
       "  </tbody>\n",
       "</table>\n",
       "</div>"
      ],
      "text/plain": [
       "                        korea                                   russia  \\\n",
       "Total         Not Significant  $4648602.29 Change: 267% from yesterday   \n",
       "Mean          Not Significant     $4548.53 Change: 267% from yesterday   \n",
       "Mean not VIP  Not Significant     $4612.02 Change: 259% from yesterday   \n",
       "Mean VIP      Not Significant     $4489.14 Change: 275% from yesterday   \n",
       "\n",
       "                                              ukraine           canada  \\\n",
       "Total         $4062890.61 Change: 283% from yesterday  Not Significant   \n",
       "Mean             $4373.40 Change: 283% from yesterday  Not Significant   \n",
       "Mean not VIP     $4489.24 Change: 281% from yesterday  Not Significant   \n",
       "Mean VIP         $4256.31 Change: 285% from yesterday  Not Significant   \n",
       "\n",
       "                                               usa        australia  \\\n",
       "Total                              Not Significant  Not Significant   \n",
       "Mean                               Not Significant  Not Significant   \n",
       "Mean not VIP  $4460.41 Change: 254% from yesterday  Not Significant   \n",
       "Mean VIP                           Not Significant  Not Significant   \n",
       "\n",
       "                                              vietnam  \\\n",
       "Total         $4489215.32 Change: 249% from yesterday   \n",
       "Mean             $4511.77 Change: 249% from yesterday   \n",
       "Mean not VIP     $4506.83 Change: 266% from yesterday   \n",
       "Mean VIP                              Not Significant   \n",
       "\n",
       "                                           philipines  \\\n",
       "Total         $4099746.73 Change: 277% from yesterday   \n",
       "Mean             $4174.89 Change: 277% from yesterday   \n",
       "Mean not VIP     $4340.36 Change: 271% from yesterday   \n",
       "Mean VIP         $4014.08 Change: 284% from yesterday   \n",
       "\n",
       "                                            mexico  \\\n",
       "Total                              Not Significant   \n",
       "Mean                               Not Significant   \n",
       "Mean not VIP                       Not Significant   \n",
       "Mean VIP      $4542.71 Change: 249% from yesterday   \n",
       "\n",
       "                                               brazil  \n",
       "Total         $4101230.20 Change: 268% from yesterday  \n",
       "Mean             $4582.38 Change: 268% from yesterday  \n",
       "Mean not VIP     $4615.48 Change: 258% from yesterday  \n",
       "Mean VIP         $4550.66 Change: 279% from yesterday  "
      ]
     },
     "execution_count": 10,
     "metadata": {},
     "output_type": "execute_result"
    }
   ],
   "source": [
    "tots"
   ]
  },
  {
   "cell_type": "code",
   "execution_count": null,
   "id": "9f2142da",
   "metadata": {},
   "outputs": [],
   "source": []
  }
 ],
 "metadata": {
  "kernelspec": {
   "display_name": "Python 3 (ipykernel)",
   "language": "python",
   "name": "python3"
  },
  "language_info": {
   "codemirror_mode": {
    "name": "ipython",
    "version": 3
   },
   "file_extension": ".py",
   "mimetype": "text/x-python",
   "name": "python",
   "nbconvert_exporter": "python",
   "pygments_lexer": "ipython3",
   "version": "3.10.2"
  }
 },
 "nbformat": 4,
 "nbformat_minor": 5
}
